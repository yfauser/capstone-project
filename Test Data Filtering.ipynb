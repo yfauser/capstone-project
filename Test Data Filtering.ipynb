{
 "cells": [
  {
   "cell_type": "code",
   "execution_count": 1,
   "metadata": {},
   "outputs": [],
   "source": [
    "%load_ext autoreload\n",
    "%autoreload 2"
   ]
  },
  {
   "cell_type": "code",
   "execution_count": 2,
   "metadata": {},
   "outputs": [],
   "source": [
    "from filters import high_pass_filter, denoise_signal, sinewave_shift, drop_data, count_peaks\n",
    "import pandas as pd\n",
    "import pyarrow.parquet as pq\n",
    "import pyarrow as pa\n",
    "import gc"
   ]
  },
  {
   "cell_type": "code",
   "execution_count": 3,
   "metadata": {},
   "outputs": [],
   "source": [
    "test_meta = pd.read_csv('data/metadata_test.csv')"
   ]
  },
  {
   "cell_type": "code",
   "execution_count": 4,
   "metadata": {},
   "outputs": [
    {
     "name": "stdout",
     "output_type": "stream",
     "text": [
      "Finished filtering signal Id 29048\r"
     ]
    }
   ],
   "source": [
    "test_meta['peaks'] = 0\n",
    "filtered_dataset = None\n",
    "\n",
    "test_chunks = [(8712, 8999), (9000, 9999), (10000, 10999), (11000, 11999), \n",
    "               (12000, 12999), (13000, 13999), (14000, 14999), (15000, 15999), \n",
    "               (16000, 16999), (17000, 17999), (18000, 18999), (19000, 19999), \n",
    "               (20000, 20999), (21000, 21999), (22000, 22999), (23000, 23999), \n",
    "               (24000, 24999), (25000, 25999), (26000, 26999), (27000, 27999), \n",
    "               (28000, 28999), (29000, 29048)]\n",
    "\n",
    "for chunk_id, chunk in enumerate(test_chunks):\n",
    "    data_subset = pq.read_pandas('data/test.parquet', \n",
    "                                 columns=[str(x) for x in range(chunk[0], chunk[1]+1)]).to_pandas()\n",
    "    \n",
    "    for idx, column in enumerate(data_subset.columns):\n",
    "        new_signal, cutpoint = sinewave_shift(data_subset[column])\n",
    "        hp_filtered_signal = high_pass_filter(new_signal)\n",
    "        denoised_sig = denoise_signal(hp_filtered_signal)\n",
    "        cut_signal = drop_data(denoised_sig)\n",
    "\n",
    "        test_meta['peaks'].loc[int(column)] = count_peaks(cut_signal)\n",
    "    \n",
    "        if isinstance(filtered_dataset, type(None)):\n",
    "            filtered_dataset = pd.DataFrame(data=cut_signal, columns=[column])\n",
    "        else:\n",
    "            filtered_dataset[column] = cut_signal\n",
    "        \n",
    "        print(\"Finished filtering signal Id {}\".format(column), end=\"\\r\")\n",
    "\n",
    "    \n",
    "    filtered_test = pa.Table.from_pandas(filtered_dataset)\n",
    "    pq.write_table(filtered_test, 'data/filtered_test_{}.parquet'.format(chunk_id))\n",
    "        \n",
    "    filtered_dataset = None"
   ]
  },
  {
   "cell_type": "code",
   "execution_count": 5,
   "metadata": {},
   "outputs": [],
   "source": [
    "test_meta.to_csv('data/filtered_metadata_test.csv', index=False)"
   ]
  }
 ],
 "metadata": {
  "kernelspec": {
   "display_name": "Python 3",
   "language": "python",
   "name": "python3"
  },
  "language_info": {
   "codemirror_mode": {
    "name": "ipython",
    "version": 3
   },
   "file_extension": ".py",
   "mimetype": "text/x-python",
   "name": "python",
   "nbconvert_exporter": "python",
   "pygments_lexer": "ipython3",
   "version": "3.7.3"
  }
 },
 "nbformat": 4,
 "nbformat_minor": 2
}
