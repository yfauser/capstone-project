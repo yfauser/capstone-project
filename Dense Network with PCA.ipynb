{
 "cells": [
  {
   "cell_type": "code",
   "execution_count": 1,
   "metadata": {
    "colab": {
     "base_uri": "https://localhost:8080/",
     "height": 34
    },
    "colab_type": "code",
    "executionInfo": {
     "elapsed": 3045,
     "status": "ok",
     "timestamp": 1567616900697,
     "user": {
      "displayName": "Yves Fauser",
      "photoUrl": "https://lh3.googleusercontent.com/a-/AAuE7mDawSjLoGduog8_o6oUYm3uQfSZbXtF69Io3FEvGq0=s64",
      "userId": "10028406161616100038"
     },
     "user_tz": -60
    },
    "id": "DmAB8KIIdxsB",
    "outputId": "a33554b9-fcb9-4c37-d99e-e00fc57842ee"
   },
   "outputs": [
    {
     "name": "stderr",
     "output_type": "stream",
     "text": [
      "Using TensorFlow backend.\n"
     ]
    }
   ],
   "source": [
    "import pandas as pd\n",
    "import numpy as np\n",
    "from sklearn.model_selection import train_test_split\n",
    "from sklearn.metrics import matthews_corrcoef, f1_score, accuracy_score\n",
    "from sklearn.metrics import precision_score, recall_score\n",
    "from keras.utils import np_utils, plot_model\n",
    "from keras.models import Sequential\n",
    "from keras.layers import Dense, Dropout, Activation, BatchNormalization, Flatten\n",
    "from keras.wrappers.scikit_learn import KerasClassifier\n",
    "from keras.callbacks import ModelCheckpoint, EarlyStopping\n",
    "from keras import optimizers\n",
    "import matplotlib.pyplot as plt"
   ]
  },
  {
   "cell_type": "code",
   "execution_count": 2,
   "metadata": {
    "colab": {
     "base_uri": "https://localhost:8080/",
     "height": 476
    },
    "colab_type": "code",
    "executionInfo": {
     "elapsed": 4529,
     "status": "ok",
     "timestamp": 1567616902194,
     "user": {
      "displayName": "Yves Fauser",
      "photoUrl": "https://lh3.googleusercontent.com/a-/AAuE7mDawSjLoGduog8_o6oUYm3uQfSZbXtF69Io3FEvGq0=s64",
      "userId": "10028406161616100038"
     },
     "user_tz": -60
    },
    "id": "joi_2yKoeMZP",
    "outputId": "a6af8c34-bf03-46e5-b9d3-0418488fa4f4"
   },
   "outputs": [
    {
     "data": {
      "text/plain": [
       "[name: \"/device:CPU:0\"\n",
       " device_type: \"CPU\"\n",
       " memory_limit: 268435456\n",
       " locality {\n",
       " }\n",
       " incarnation: 14696688636086147556, name: \"/device:XLA_CPU:0\"\n",
       " device_type: \"XLA_CPU\"\n",
       " memory_limit: 17179869184\n",
       " locality {\n",
       " }\n",
       " incarnation: 5248141170670441576\n",
       " physical_device_desc: \"device: XLA_CPU device\", name: \"/device:XLA_GPU:0\"\n",
       " device_type: \"XLA_GPU\"\n",
       " memory_limit: 17179869184\n",
       " locality {\n",
       " }\n",
       " incarnation: 6576138681510776921\n",
       " physical_device_desc: \"device: XLA_GPU device\", name: \"/device:GPU:0\"\n",
       " device_type: \"GPU\"\n",
       " memory_limit: 11330115994\n",
       " locality {\n",
       "   bus_id: 1\n",
       "   links {\n",
       "   }\n",
       " }\n",
       " incarnation: 5707721525139782218\n",
       " physical_device_desc: \"device: 0, name: Tesla K80, pci bus id: 0000:00:04.0, compute capability: 3.7\"]"
      ]
     },
     "execution_count": 2,
     "metadata": {
      "tags": []
     },
     "output_type": "execute_result"
    }
   ],
   "source": [
    "from tensorflow.python.client import device_lib\n",
    "device_lib.list_local_devices()"
   ]
  },
  {
   "cell_type": "code",
   "execution_count": 3,
   "metadata": {
    "colab": {
     "base_uri": "https://localhost:8080/",
     "height": 189
    },
    "colab_type": "code",
    "executionInfo": {
     "elapsed": 14243,
     "status": "ok",
     "timestamp": 1567616911918,
     "user": {
      "displayName": "Yves Fauser",
      "photoUrl": "https://lh3.googleusercontent.com/a-/AAuE7mDawSjLoGduog8_o6oUYm3uQfSZbXtF69Io3FEvGq0=s64",
      "userId": "10028406161616100038"
     },
     "user_tz": -60
    },
    "id": "hiiYWmyweWks",
    "outputId": "2abb2291-2ec2-44b5-9a76-7ae6e6368382"
   },
   "outputs": [
    {
     "name": "stdout",
     "output_type": "stream",
     "text": [
      "Go to this URL in a browser: https://accounts.google.com/o/oauth2/auth?client_id=947318989803-6bn6qk8qdgf4n4g3pfee6491hc0brc4i.apps.googleusercontent.com&redirect_uri=urn%3Aietf%3Awg%3Aoauth%3A2.0%3Aoob&scope=email%20https%3A%2F%2Fwww.googleapis.com%2Fauth%2Fdocs.test%20https%3A%2F%2Fwww.googleapis.com%2Fauth%2Fdrive%20https%3A%2F%2Fwww.googleapis.com%2Fauth%2Fdrive.photos.readonly%20https%3A%2F%2Fwww.googleapis.com%2Fauth%2Fpeopleapi.readonly&response_type=code\n",
      "\n",
      "Enter your authorization code:\n",
      "··········\n",
      "Mounted at /content/drive\n"
     ]
    }
   ],
   "source": [
    "from google.colab import drive\n",
    "drive.mount('/content/drive')"
   ]
  },
  {
   "cell_type": "code",
   "execution_count": 0,
   "metadata": {
    "colab": {},
    "colab_type": "code",
    "id": "l9nw-Ogaealp"
   },
   "outputs": [],
   "source": [
    "!cp '/content/drive/My Drive/Colab Notebooks/pca_train_data.csv' /content/\n",
    "!cp '/content/drive/My Drive/Colab Notebooks/select_train_meta.csv' /content/"
   ]
  },
  {
   "cell_type": "code",
   "execution_count": 5,
   "metadata": {
    "colab": {
     "base_uri": "https://localhost:8080/",
     "height": 34
    },
    "colab_type": "code",
    "executionInfo": {
     "elapsed": 19000,
     "status": "ok",
     "timestamp": 1567616916688,
     "user": {
      "displayName": "Yves Fauser",
      "photoUrl": "https://lh3.googleusercontent.com/a-/AAuE7mDawSjLoGduog8_o6oUYm3uQfSZbXtF69Io3FEvGq0=s64",
      "userId": "10028406161616100038"
     },
     "user_tz": -60
    },
    "id": "gnnPYDhWdxsF",
    "outputId": "6626e2a2-4264-4897-f075-8e48a216111a"
   },
   "outputs": [
    {
     "name": "stdout",
     "output_type": "stream",
     "text": [
      "2625 369 1\n"
     ]
    }
   ],
   "source": [
    "# Loading the Data\n",
    "data = pd.read_csv('/content/pca_train_data.csv', index_col=0)\n",
    "metadata = pd.read_csv('/content/select_train_meta.csv', index_col=0)\n",
    "targets = metadata['target']\n",
    "\n",
    "data = np.expand_dims(data, axis=2)\n",
    "n_samples, n_features, n_outputs = data.shape\n",
    "print(n_samples, n_features, n_outputs)"
   ]
  },
  {
   "cell_type": "code",
   "execution_count": 0,
   "metadata": {
    "colab": {},
    "colab_type": "code",
    "id": "MogTjkrygp4S"
   },
   "outputs": [],
   "source": [
    "X_train, X_valid, y_train, y_valid = train_test_split(data, targets, test_size=0.2, random_state=42)\n",
    "y_train = np_utils.to_categorical(np.array(y_train))\n",
    "y_valid = np_utils.to_categorical(np.array(y_valid))"
   ]
  },
  {
   "cell_type": "code",
   "execution_count": 0,
   "metadata": {
    "colab": {},
    "colab_type": "code",
    "id": "WKhmuY9LdxsI"
   },
   "outputs": [],
   "source": [
    "learning_rate = 0.0005\n",
    "train_epochs=100\n",
    "dropout = 0.35"
   ]
  },
  {
   "cell_type": "code",
   "execution_count": 0,
   "metadata": {
    "colab": {},
    "colab_type": "code",
    "id": "WcHkG9F2k7UI"
   },
   "outputs": [],
   "source": [
    "def dense_model():\n",
    "    # Define the network\n",
    "    model = Sequential()\n",
    "    model.add(Dense(2048, input_shape=(369, 1)))\n",
    "    model.add(BatchNormalization())\n",
    "    model.add(Activation('relu'))\n",
    "    model.add(Dropout(dropout))\n",
    "    model.add(Dense(1024))\n",
    "    model.add(BatchNormalization())\n",
    "    model.add(Activation('relu'))\n",
    "    model.add(Dropout(dropout))\n",
    "    model.add(Dense(512))\n",
    "    model.add(BatchNormalization())\n",
    "    model.add(Activation('relu'))\n",
    "    model.add(Dropout(dropout))\n",
    "    model.add(Flatten())\n",
    "    model.add(Dense(2, activation='softmax'))\n",
    "\n",
    "    model.compile(loss='categorical_crossentropy',\n",
    "                  optimizer=optimizers.SGD(lr=learning_rate),\n",
    "                  metrics=['accuracy'])\n",
    "    \n",
    "    return model"
   ]
  },
  {
   "cell_type": "code",
   "execution_count": 9,
   "metadata": {
    "colab": {
     "base_uri": "https://localhost:8080/",
     "height": 921
    },
    "colab_type": "code",
    "executionInfo": {
     "elapsed": 19814,
     "status": "ok",
     "timestamp": 1567616917524,
     "user": {
      "displayName": "Yves Fauser",
      "photoUrl": "https://lh3.googleusercontent.com/a-/AAuE7mDawSjLoGduog8_o6oUYm3uQfSZbXtF69Io3FEvGq0=s64",
      "userId": "10028406161616100038"
     },
     "user_tz": -60
    },
    "id": "d1y18W3ydxsM",
    "outputId": "3d7ff440-4e33-4f4b-bbe2-a1fc22f76693"
   },
   "outputs": [
    {
     "name": "stderr",
     "output_type": "stream",
     "text": [
      "WARNING: Logging before flag parsing goes to stderr.\n",
      "W0904 17:08:36.234033 140471922685824 deprecation_wrapper.py:119] From /usr/local/lib/python3.6/dist-packages/keras/backend/tensorflow_backend.py:66: The name tf.get_default_graph is deprecated. Please use tf.compat.v1.get_default_graph instead.\n",
      "\n",
      "W0904 17:08:36.240840 140471922685824 deprecation_wrapper.py:119] From /usr/local/lib/python3.6/dist-packages/keras/backend/tensorflow_backend.py:541: The name tf.placeholder is deprecated. Please use tf.compat.v1.placeholder instead.\n",
      "\n",
      "W0904 17:08:36.252476 140471922685824 deprecation_wrapper.py:119] From /usr/local/lib/python3.6/dist-packages/keras/backend/tensorflow_backend.py:4432: The name tf.random_uniform is deprecated. Please use tf.random.uniform instead.\n",
      "\n",
      "W0904 17:08:36.379902 140471922685824 deprecation_wrapper.py:119] From /usr/local/lib/python3.6/dist-packages/keras/backend/tensorflow_backend.py:148: The name tf.placeholder_with_default is deprecated. Please use tf.compat.v1.placeholder_with_default instead.\n",
      "\n",
      "W0904 17:08:36.409795 140471922685824 deprecation.py:506] From /usr/local/lib/python3.6/dist-packages/keras/backend/tensorflow_backend.py:3733: calling dropout (from tensorflow.python.ops.nn_ops) with keep_prob is deprecated and will be removed in a future version.\n",
      "Instructions for updating:\n",
      "Please use `rate` instead of `keep_prob`. Rate should be set to `rate = 1 - keep_prob`.\n",
      "W0904 17:08:36.754032 140471922685824 deprecation_wrapper.py:119] From /usr/local/lib/python3.6/dist-packages/keras/optimizers.py:793: The name tf.train.Optimizer is deprecated. Please use tf.compat.v1.train.Optimizer instead.\n",
      "\n",
      "W0904 17:08:36.765338 140471922685824 deprecation_wrapper.py:119] From /usr/local/lib/python3.6/dist-packages/keras/backend/tensorflow_backend.py:3576: The name tf.log is deprecated. Please use tf.math.log instead.\n",
      "\n"
     ]
    },
    {
     "name": "stdout",
     "output_type": "stream",
     "text": [
      "Model: \"sequential_1\"\n",
      "_________________________________________________________________\n",
      "Layer (type)                 Output Shape              Param #   \n",
      "=================================================================\n",
      "dense_1 (Dense)              (None, 369, 2048)         4096      \n",
      "_________________________________________________________________\n",
      "batch_normalization_1 (Batch (None, 369, 2048)         8192      \n",
      "_________________________________________________________________\n",
      "activation_1 (Activation)    (None, 369, 2048)         0         \n",
      "_________________________________________________________________\n",
      "dropout_1 (Dropout)          (None, 369, 2048)         0         \n",
      "_________________________________________________________________\n",
      "dense_2 (Dense)              (None, 369, 1024)         2098176   \n",
      "_________________________________________________________________\n",
      "batch_normalization_2 (Batch (None, 369, 1024)         4096      \n",
      "_________________________________________________________________\n",
      "activation_2 (Activation)    (None, 369, 1024)         0         \n",
      "_________________________________________________________________\n",
      "dropout_2 (Dropout)          (None, 369, 1024)         0         \n",
      "_________________________________________________________________\n",
      "dense_3 (Dense)              (None, 369, 512)          524800    \n",
      "_________________________________________________________________\n",
      "batch_normalization_3 (Batch (None, 369, 512)          2048      \n",
      "_________________________________________________________________\n",
      "activation_3 (Activation)    (None, 369, 512)          0         \n",
      "_________________________________________________________________\n",
      "dropout_3 (Dropout)          (None, 369, 512)          0         \n",
      "_________________________________________________________________\n",
      "flatten_1 (Flatten)          (None, 188928)            0         \n",
      "_________________________________________________________________\n",
      "dense_4 (Dense)              (None, 2)                 377858    \n",
      "=================================================================\n",
      "Total params: 3,019,266\n",
      "Trainable params: 3,012,098\n",
      "Non-trainable params: 7,168\n",
      "_________________________________________________________________\n"
     ]
    }
   ],
   "source": [
    "model = dense_model()\n",
    "plot_model(model, '/content/model_dense_pca.png', show_shapes=True)\n",
    "model.summary()"
   ]
  },
  {
   "cell_type": "code",
   "execution_count": 10,
   "metadata": {
    "colab": {
     "base_uri": "https://localhost:8080/",
     "height": 1000
    },
    "colab_type": "code",
    "executionInfo": {
     "elapsed": 215594,
     "status": "ok",
     "timestamp": 1567617113312,
     "user": {
      "displayName": "Yves Fauser",
      "photoUrl": "https://lh3.googleusercontent.com/a-/AAuE7mDawSjLoGduog8_o6oUYm3uQfSZbXtF69Io3FEvGq0=s64",
      "userId": "10028406161616100038"
     },
     "user_tz": -60
    },
    "id": "_lHwnqDddxsP",
    "outputId": "0ee8abbd-6f39-4ff2-8e20-f6d1a0fd7b77"
   },
   "outputs": [
    {
     "name": "stderr",
     "output_type": "stream",
     "text": [
      "W0904 17:08:37.286995 140471922685824 deprecation.py:323] From /usr/local/lib/python3.6/dist-packages/tensorflow/python/ops/math_grad.py:1250: add_dispatch_support.<locals>.wrapper (from tensorflow.python.ops.array_ops) is deprecated and will be removed in a future version.\n",
      "Instructions for updating:\n",
      "Use tf.where in 2.0, which has the same broadcast rule as np.where\n"
     ]
    },
    {
     "name": "stdout",
     "output_type": "stream",
     "text": [
      "Train on 2100 samples, validate on 525 samples\n",
      "Epoch 1/100\n",
      "2100/2100 [==============================] - 15s 7ms/step - loss: 0.4844 - acc: 0.7924 - val_loss: 0.4044 - val_acc: 0.7790\n",
      "\n",
      "Epoch 00001: val_loss improved from inf to 0.40436, saving model to /content/saved_weights_dense_pca.hdf5\n",
      "Epoch 2/100\n",
      "2100/2100 [==============================] - 11s 5ms/step - loss: 0.3755 - acc: 0.7981 - val_loss: 0.3931 - val_acc: 0.8038\n",
      "\n",
      "Epoch 00002: val_loss improved from 0.40436 to 0.39313, saving model to /content/saved_weights_dense_pca.hdf5\n",
      "Epoch 3/100\n",
      "2100/2100 [==============================] - 11s 5ms/step - loss: 0.3454 - acc: 0.8114 - val_loss: 0.4039 - val_acc: 0.8019\n",
      "\n",
      "Epoch 00003: val_loss did not improve from 0.39313\n",
      "Epoch 4/100\n",
      "2100/2100 [==============================] - 11s 5ms/step - loss: 0.3343 - acc: 0.8219 - val_loss: 0.4069 - val_acc: 0.8000\n",
      "\n",
      "Epoch 00004: val_loss did not improve from 0.39313\n",
      "Epoch 5/100\n",
      "2100/2100 [==============================] - 11s 5ms/step - loss: 0.3273 - acc: 0.8162 - val_loss: 0.4099 - val_acc: 0.8000\n",
      "\n",
      "Epoch 00005: val_loss did not improve from 0.39313\n",
      "Epoch 6/100\n",
      "2100/2100 [==============================] - 11s 5ms/step - loss: 0.3146 - acc: 0.8262 - val_loss: 0.4095 - val_acc: 0.8000\n",
      "\n",
      "Epoch 00006: val_loss did not improve from 0.39313\n",
      "Epoch 7/100\n",
      "2100/2100 [==============================] - 11s 5ms/step - loss: 0.2998 - acc: 0.8386 - val_loss: 0.4219 - val_acc: 0.8019\n",
      "\n",
      "Epoch 00007: val_loss did not improve from 0.39313\n",
      "Epoch 8/100\n",
      "2100/2100 [==============================] - 11s 5ms/step - loss: 0.3014 - acc: 0.8343 - val_loss: 0.4184 - val_acc: 0.8419\n",
      "\n",
      "Epoch 00008: val_loss did not improve from 0.39313\n",
      "Epoch 9/100\n",
      "2100/2100 [==============================] - 11s 5ms/step - loss: 0.2969 - acc: 0.8319 - val_loss: 0.4176 - val_acc: 0.8133\n",
      "\n",
      "Epoch 00009: val_loss did not improve from 0.39313\n",
      "Epoch 10/100\n",
      "2100/2100 [==============================] - 11s 5ms/step - loss: 0.3023 - acc: 0.8438 - val_loss: 0.4363 - val_acc: 0.8000\n",
      "\n",
      "Epoch 00010: val_loss did not improve from 0.39313\n",
      "Epoch 11/100\n",
      "2100/2100 [==============================] - 11s 5ms/step - loss: 0.2949 - acc: 0.8405 - val_loss: 0.4264 - val_acc: 0.8152\n",
      "\n",
      "Epoch 00011: val_loss did not improve from 0.39313\n",
      "Epoch 12/100\n",
      "2100/2100 [==============================] - 11s 5ms/step - loss: 0.2938 - acc: 0.8414 - val_loss: 0.4388 - val_acc: 0.8000\n",
      "\n",
      "Epoch 00012: val_loss did not improve from 0.39313\n",
      "Epoch 13/100\n",
      "2100/2100 [==============================] - 11s 5ms/step - loss: 0.2840 - acc: 0.8476 - val_loss: 0.4361 - val_acc: 0.8419\n",
      "\n",
      "Epoch 00013: val_loss did not improve from 0.39313\n",
      "Epoch 14/100\n",
      "2100/2100 [==============================] - 11s 5ms/step - loss: 0.2928 - acc: 0.8395 - val_loss: 0.4384 - val_acc: 0.8171\n",
      "\n",
      "Epoch 00014: val_loss did not improve from 0.39313\n",
      "Epoch 15/100\n",
      "2100/2100 [==============================] - 11s 5ms/step - loss: 0.2753 - acc: 0.8562 - val_loss: 0.4359 - val_acc: 0.8152\n",
      "\n",
      "Epoch 00015: val_loss did not improve from 0.39313\n",
      "Epoch 16/100\n",
      "2100/2100 [==============================] - 11s 5ms/step - loss: 0.2818 - acc: 0.8419 - val_loss: 0.4370 - val_acc: 0.8400\n",
      "\n",
      "Epoch 00016: val_loss did not improve from 0.39313\n",
      "Epoch 17/100\n",
      "2100/2100 [==============================] - 11s 5ms/step - loss: 0.2762 - acc: 0.8557 - val_loss: 0.4517 - val_acc: 0.8400\n",
      "\n",
      "Epoch 00017: val_loss did not improve from 0.39313\n",
      "Epoch 00017: early stopping\n"
     ]
    },
    {
     "data": {
      "text/plain": [
       "<keras.callbacks.History at 0x7fc1c0093e80>"
      ]
     },
     "execution_count": 10,
     "metadata": {
      "tags": []
     },
     "output_type": "execute_result"
    }
   ],
   "source": [
    "checkpointer = ModelCheckpoint(filepath='/content/saved_weights_dense_pca.hdf5', \n",
    "                               verbose=1, save_best_only=True)\n",
    "\n",
    "early_stop = EarlyStopping(monitor='val_loss', min_delta=0, patience=15, \n",
    "                           verbose=1, mode='auto')\n",
    "\n",
    "model.fit(X_train, y_train, validation_data=(X_valid, y_valid),\n",
    "          epochs=train_epochs, batch_size=32, callbacks=[checkpointer, early_stop], verbose=1)\n"
   ]
  },
  {
   "cell_type": "code",
   "execution_count": 0,
   "metadata": {
    "colab": {},
    "colab_type": "code",
    "id": "WTMh6XbCdxsR"
   },
   "outputs": [],
   "source": [
    "model.load_weights('/content/saved_weights_dense_pca.hdf5')"
   ]
  },
  {
   "cell_type": "code",
   "execution_count": 0,
   "metadata": {
    "colab": {},
    "colab_type": "code",
    "id": "sZj-OW9YdxsT"
   },
   "outputs": [],
   "source": [
    "valid_pred_real = model.predict(X_valid)\n",
    "valid_pred = np_utils.to_categorical([np.argmax(prediction) for prediction in valid_pred_real])"
   ]
  },
  {
   "cell_type": "code",
   "execution_count": 13,
   "metadata": {
    "colab": {
     "base_uri": "https://localhost:8080/",
     "height": 102
    },
    "colab_type": "code",
    "executionInfo": {
     "elapsed": 216837,
     "status": "ok",
     "timestamp": 1567617114569,
     "user": {
      "displayName": "Yves Fauser",
      "photoUrl": "https://lh3.googleusercontent.com/a-/AAuE7mDawSjLoGduog8_o6oUYm3uQfSZbXtF69Io3FEvGq0=s64",
      "userId": "10028406161616100038"
     },
     "user_tz": -60
    },
    "id": "12AbqhDCjseW",
    "outputId": "4ccfc15b-14f5-4c77-e8c0-9a840c5c927f"
   },
   "outputs": [
    {
     "name": "stdout",
     "output_type": "stream",
     "text": [
      "accuracy for validation data is = 0.8038\n",
      "F1 score for validation data is = 0.5189\n",
      "precision for validation data is = 0.7775\n",
      "recall for validation data is = 0.5377\n",
      "MCC for validation data is = 0.2045\n"
     ]
    }
   ],
   "source": [
    "score_acc = accuracy_score(y_valid, valid_pred)\n",
    "score_f1 = f1_score(y_valid, valid_pred, average='macro')\n",
    "score_prec = precision_score(y_valid, valid_pred, average='macro')\n",
    "score_rec = recall_score(y_valid, valid_pred, average='macro')\n",
    "score_mcc = matthews_corrcoef(y_valid.argmax(axis=1), valid_pred.argmax(axis=1))\n",
    "\n",
    "print(\"accuracy for validation data is = {:.4f}\".format(score_acc))\n",
    "print(\"F1 score for validation data is = {:.4f}\".format(score_f1))\n",
    "print(\"precision for validation data is = {:.4f}\".format(score_prec))\n",
    "print(\"recall for validation data is = {:.4f}\".format(score_rec))\n",
    "print(\"MCC for validation data is = {:.4f}\".format(score_mcc))"
   ]
  },
  {
   "cell_type": "code",
   "execution_count": 14,
   "metadata": {
    "colab": {
     "base_uri": "https://localhost:8080/",
     "height": 621
    },
    "colab_type": "code",
    "executionInfo": {
     "elapsed": 216830,
     "status": "ok",
     "timestamp": 1567617114570,
     "user": {
      "displayName": "Yves Fauser",
      "photoUrl": "https://lh3.googleusercontent.com/a-/AAuE7mDawSjLoGduog8_o6oUYm3uQfSZbXtF69Io3FEvGq0=s64",
      "userId": "10028406161616100038"
     },
     "user_tz": -60
    },
    "id": "zMF0oJ-WkEBo",
    "outputId": "84021f91-c2f2-4ba4-a251-5ae0b135b334"
   },
   "outputs": [
    {
     "data": {
      "image/png": "[encoded data removed]",
      "text/plain": [
       "<Figure size 1440x720 with 1 Axes>"
      ]
     },
     "metadata": {
      "tags": []
     },
     "output_type": "display_data"
    }
   ],
   "source": [
    "fig, ax1 = plt.subplots(figsize=(20, 10))\n",
    "ax1.bar(0, score_acc)\n",
    "ax1.bar(1, score_rec)\n",
    "ax1.bar(2, score_prec)\n",
    "ax1.bar(3, score_f1)\n",
    "ax1.bar(4, score_mcc)\n",
    "ax1.set(xlabel='Metric', ylabel='Result', title='Validation Results')\n",
    "ax1.legend(['accuracy', 'recall', 'precision', 'f1', 'mcc'])\n",
    "ax1.grid()\n",
    "plt.show();"
   ]
  },
  {
   "cell_type": "code",
   "execution_count": 0,
   "metadata": {
    "colab": {},
    "colab_type": "code",
    "id": "Fzejzg09lmU9"
   },
   "outputs": [],
   "source": [
    "!rm '/content/pca_train_data.csv'\n",
    "!rm '/content/select_train_meta.csv'"
   ]
  },
  {
   "cell_type": "code",
   "execution_count": 0,
   "metadata": {
    "colab": {},
    "colab_type": "code",
    "id": "vR3PFuHPlmZe"
   },
   "outputs": [],
   "source": [
    "!cp '/content/saved_weights_dense_pca.hdf5' '/content/drive/My Drive/Colab Notebooks/'\n",
    "!cp '/content/model_dense_pca.png' '/content/drive/My Drive/Colab Notebooks/'"
   ]
  }
 ],
 "metadata": {
  "accelerator": "GPU",
  "colab": {
   "collapsed_sections": [],
   "name": "Dense Network with PCA.ipynb",
   "provenance": [
    {
     "file_id": "1bKdmQY1O5S4E0Ibwxb5ZisidpDvwo0Ak",
     "timestamp": 1567454559367
    }
   ],
   "version": "0.3.2"
  },
  "kernelspec": {
   "display_name": "Python 3",
   "language": "python",
   "name": "python3"
  },
  "language_info": {
   "codemirror_mode": {
    "name": "ipython",
    "version": 3
   },
   "file_extension": ".py",
   "mimetype": "text/x-python",
   "name": "python",
   "nbconvert_exporter": "python",
   "pygments_lexer": "ipython3",
   "version": "3.7.3"
  }
 },
 "nbformat": 4,
 "nbformat_minor": 1
}
