{
 "cells": [
  {
   "cell_type": "code",
   "execution_count": 1,
   "metadata": {
    "colab": {
     "base_uri": "https://localhost:8080/",
     "height": 34
    },
    "colab_type": "code",
    "executionInfo": {
     "elapsed": 2983,
     "status": "ok",
     "timestamp": 1567616974451,
     "user": {
      "displayName": "Yves Fauser",
      "photoUrl": "https://lh3.googleusercontent.com/a-/AAuE7mDawSjLoGduog8_o6oUYm3uQfSZbXtF69Io3FEvGq0=s64",
      "userId": "10028406161616100038"
     },
     "user_tz": -60
    },
    "id": "DmAB8KIIdxsB",
    "outputId": "61b439ff-f6d7-48fc-b74f-dbdc3fb91692"
   },
   "outputs": [
    {
     "name": "stderr",
     "output_type": "stream",
     "text": [
      "Using TensorFlow backend.\n"
     ]
    }
   ],
   "source": [
    "import pandas as pd\n",
    "import numpy as np\n",
    "from sklearn.model_selection import train_test_split\n",
    "from sklearn.metrics import matthews_corrcoef, f1_score, accuracy_score\n",
    "from sklearn.metrics import precision_score, recall_score\n",
    "from keras.utils import np_utils, plot_model\n",
    "from keras.models import Sequential\n",
    "from keras.layers import Conv1D, MaxPooling1D, Dense, Activation, BatchNormalization, Flatten\n",
    "from keras.wrappers.scikit_learn import KerasClassifier\n",
    "from keras.callbacks import ModelCheckpoint, EarlyStopping\n",
    "from keras import optimizers\n",
    "import matplotlib.pyplot as plt"
   ]
  },
  {
   "cell_type": "code",
   "execution_count": 2,
   "metadata": {
    "colab": {
     "base_uri": "https://localhost:8080/",
     "height": 476
    },
    "colab_type": "code",
    "executionInfo": {
     "elapsed": 4595,
     "status": "ok",
     "timestamp": 1567616976074,
     "user": {
      "displayName": "Yves Fauser",
      "photoUrl": "https://lh3.googleusercontent.com/a-/AAuE7mDawSjLoGduog8_o6oUYm3uQfSZbXtF69Io3FEvGq0=s64",
      "userId": "10028406161616100038"
     },
     "user_tz": -60
    },
    "id": "joi_2yKoeMZP",
    "outputId": "7d44fe9e-edb4-4a8f-c2e3-373b286b7ef6"
   },
   "outputs": [
    {
     "data": {
      "text/plain": [
       "[name: \"/device:CPU:0\"\n",
       " device_type: \"CPU\"\n",
       " memory_limit: 268435456\n",
       " locality {\n",
       " }\n",
       " incarnation: 4430760746723742614, name: \"/device:XLA_CPU:0\"\n",
       " device_type: \"XLA_CPU\"\n",
       " memory_limit: 17179869184\n",
       " locality {\n",
       " }\n",
       " incarnation: 6625747571898735157\n",
       " physical_device_desc: \"device: XLA_CPU device\", name: \"/device:XLA_GPU:0\"\n",
       " device_type: \"XLA_GPU\"\n",
       " memory_limit: 17179869184\n",
       " locality {\n",
       " }\n",
       " incarnation: 3457065632864594837\n",
       " physical_device_desc: \"device: XLA_GPU device\", name: \"/device:GPU:0\"\n",
       " device_type: \"GPU\"\n",
       " memory_limit: 11330115994\n",
       " locality {\n",
       "   bus_id: 1\n",
       "   links {\n",
       "   }\n",
       " }\n",
       " incarnation: 17128124012032649920\n",
       " physical_device_desc: \"device: 0, name: Tesla K80, pci bus id: 0000:00:04.0, compute capability: 3.7\"]"
      ]
     },
     "execution_count": 2,
     "metadata": {
      "tags": []
     },
     "output_type": "execute_result"
    }
   ],
   "source": [
    "from tensorflow.python.client import device_lib\n",
    "device_lib.list_local_devices()"
   ]
  },
  {
   "cell_type": "code",
   "execution_count": 3,
   "metadata": {
    "colab": {
     "base_uri": "https://localhost:8080/",
     "height": 189
    },
    "colab_type": "code",
    "executionInfo": {
     "elapsed": 24269,
     "status": "ok",
     "timestamp": 1567616995755,
     "user": {
      "displayName": "Yves Fauser",
      "photoUrl": "https://lh3.googleusercontent.com/a-/AAuE7mDawSjLoGduog8_o6oUYm3uQfSZbXtF69Io3FEvGq0=s64",
      "userId": "10028406161616100038"
     },
     "user_tz": -60
    },
    "id": "hiiYWmyweWks",
    "outputId": "801d6c49-a37b-4188-c12d-31f6625dc8de"
   },
   "outputs": [
    {
     "name": "stdout",
     "output_type": "stream",
     "text": [
      "Go to this URL in a browser: https://accounts.google.com/o/oauth2/auth?client_id=947318989803-6bn6qk8qdgf4n4g3pfee6491hc0brc4i.apps.googleusercontent.com&redirect_uri=urn%3Aietf%3Awg%3Aoauth%3A2.0%3Aoob&scope=email%20https%3A%2F%2Fwww.googleapis.com%2Fauth%2Fdocs.test%20https%3A%2F%2Fwww.googleapis.com%2Fauth%2Fdrive%20https%3A%2F%2Fwww.googleapis.com%2Fauth%2Fdrive.photos.readonly%20https%3A%2F%2Fwww.googleapis.com%2Fauth%2Fpeopleapi.readonly&response_type=code\n",
      "\n",
      "Enter your authorization code:\n",
      "··········\n",
      "Mounted at /content/drive\n"
     ]
    }
   ],
   "source": [
    "from google.colab import drive\n",
    "drive.mount('/content/drive')"
   ]
  },
  {
   "cell_type": "code",
   "execution_count": 0,
   "metadata": {
    "colab": {},
    "colab_type": "code",
    "id": "l9nw-Ogaealp"
   },
   "outputs": [],
   "source": [
    "!cp '/content/drive/My Drive/Colab Notebooks/pca_train_data.csv' /content/\n",
    "!cp '/content/drive/My Drive/Colab Notebooks/select_train_meta.csv' /content/"
   ]
  },
  {
   "cell_type": "code",
   "execution_count": 5,
   "metadata": {
    "colab": {
     "base_uri": "https://localhost:8080/",
     "height": 34
    },
    "colab_type": "code",
    "executionInfo": {
     "elapsed": 29332,
     "status": "ok",
     "timestamp": 1567617000828,
     "user": {
      "displayName": "Yves Fauser",
      "photoUrl": "https://lh3.googleusercontent.com/a-/AAuE7mDawSjLoGduog8_o6oUYm3uQfSZbXtF69Io3FEvGq0=s64",
      "userId": "10028406161616100038"
     },
     "user_tz": -60
    },
    "id": "gnnPYDhWdxsF",
    "outputId": "efc66064-0343-474f-981d-8ffec488ba33"
   },
   "outputs": [
    {
     "name": "stdout",
     "output_type": "stream",
     "text": [
      "2625 369 1\n"
     ]
    }
   ],
   "source": [
    "# Loading the Data\n",
    "data = pd.read_csv('/content/pca_train_data.csv', index_col=0)\n",
    "metadata = pd.read_csv('/content/select_train_meta.csv', index_col=0)\n",
    "targets = metadata['target']\n",
    "\n",
    "data = np.expand_dims(data, axis=2)\n",
    "n_samples, n_features, n_outputs = data.shape\n",
    "print(n_samples, n_features, n_outputs)"
   ]
  },
  {
   "cell_type": "code",
   "execution_count": 0,
   "metadata": {
    "colab": {},
    "colab_type": "code",
    "id": "MogTjkrygp4S"
   },
   "outputs": [],
   "source": [
    "X_train, X_valid, y_train, y_valid = train_test_split(data, targets, test_size=0.2, random_state=42)\n",
    "y_train = np_utils.to_categorical(np.array(y_train))\n",
    "y_valid = np_utils.to_categorical(np.array(y_valid))"
   ]
  },
  {
   "cell_type": "code",
   "execution_count": 0,
   "metadata": {
    "colab": {},
    "colab_type": "code",
    "id": "WKhmuY9LdxsI"
   },
   "outputs": [],
   "source": [
    "learning_rate = 0.005\n",
    "train_epochs=100"
   ]
  },
  {
   "cell_type": "code",
   "execution_count": 0,
   "metadata": {
    "colab": {},
    "colab_type": "code",
    "id": "knrXX9vsdxsK"
   },
   "outputs": [],
   "source": [
    "def cnn_model():\n",
    "    # Define the network\n",
    "    model = Sequential()\n",
    "    model.add(Conv1D(128, kernel_size=11, input_shape=(369, 1)))\n",
    "    model.add(BatchNormalization())\n",
    "    model.add(Activation('relu'))\n",
    "    model.add(MaxPooling1D(4))\n",
    "\n",
    "    model.add(Conv1D(384, kernel_size=11))\n",
    "    model.add(BatchNormalization())\n",
    "    model.add(Activation('relu'))\n",
    "    model.add(MaxPooling1D(4))\n",
    "\n",
    "    model.add(Conv1D(1024, kernel_size=11))\n",
    "    model.add(BatchNormalization())\n",
    "    model.add(Activation('relu'))\n",
    "    model.add(MaxPooling1D(4))\n",
    "\n",
    "    model.add(Flatten())\n",
    "    model.add(Dense(100, activation='relu'))\n",
    "    model.add(Dense(2, activation='softmax')) \n",
    "\n",
    "    model.compile(loss='categorical_crossentropy',\n",
    "                  optimizer=optimizers.SGD(lr=learning_rate),\n",
    "                  metrics=['accuracy'])\n",
    "    \n",
    "    return model"
   ]
  },
  {
   "cell_type": "code",
   "execution_count": 9,
   "metadata": {
    "colab": {
     "base_uri": "https://localhost:8080/",
     "height": 958
    },
    "colab_type": "code",
    "executionInfo": {
     "elapsed": 29322,
     "status": "ok",
     "timestamp": 1567617000830,
     "user": {
      "displayName": "Yves Fauser",
      "photoUrl": "https://lh3.googleusercontent.com/a-/AAuE7mDawSjLoGduog8_o6oUYm3uQfSZbXtF69Io3FEvGq0=s64",
      "userId": "10028406161616100038"
     },
     "user_tz": -60
    },
    "id": "d1y18W3ydxsM",
    "outputId": "040fc165-bd85-49ae-ee57-5b2df75a302b"
   },
   "outputs": [
    {
     "name": "stderr",
     "output_type": "stream",
     "text": [
      "WARNING: Logging before flag parsing goes to stderr.\n",
      "W0904 17:09:59.308434 140026679904128 deprecation_wrapper.py:119] From /usr/local/lib/python3.6/dist-packages/keras/backend/tensorflow_backend.py:66: The name tf.get_default_graph is deprecated. Please use tf.compat.v1.get_default_graph instead.\n",
      "\n",
      "W0904 17:09:59.315589 140026679904128 deprecation_wrapper.py:119] From /usr/local/lib/python3.6/dist-packages/keras/backend/tensorflow_backend.py:541: The name tf.placeholder is deprecated. Please use tf.compat.v1.placeholder instead.\n",
      "\n",
      "W0904 17:09:59.325380 140026679904128 deprecation_wrapper.py:119] From /usr/local/lib/python3.6/dist-packages/keras/backend/tensorflow_backend.py:4432: The name tf.random_uniform is deprecated. Please use tf.random.uniform instead.\n",
      "\n",
      "W0904 17:09:59.450624 140026679904128 deprecation_wrapper.py:119] From /usr/local/lib/python3.6/dist-packages/keras/backend/tensorflow_backend.py:148: The name tf.placeholder_with_default is deprecated. Please use tf.compat.v1.placeholder_with_default instead.\n",
      "\n",
      "W0904 17:09:59.476642 140026679904128 deprecation_wrapper.py:119] From /usr/local/lib/python3.6/dist-packages/keras/backend/tensorflow_backend.py:4267: The name tf.nn.max_pool is deprecated. Please use tf.nn.max_pool2d instead.\n",
      "\n",
      "W0904 17:09:59.756294 140026679904128 deprecation_wrapper.py:119] From /usr/local/lib/python3.6/dist-packages/keras/optimizers.py:793: The name tf.train.Optimizer is deprecated. Please use tf.compat.v1.train.Optimizer instead.\n",
      "\n",
      "W0904 17:09:59.766635 140026679904128 deprecation_wrapper.py:119] From /usr/local/lib/python3.6/dist-packages/keras/backend/tensorflow_backend.py:3576: The name tf.log is deprecated. Please use tf.math.log instead.\n",
      "\n"
     ]
    },
    {
     "name": "stdout",
     "output_type": "stream",
     "text": [
      "Model: \"sequential_1\"\n",
      "_________________________________________________________________\n",
      "Layer (type)                 Output Shape              Param #   \n",
      "=================================================================\n",
      "conv1d_1 (Conv1D)            (None, 359, 128)          1536      \n",
      "_________________________________________________________________\n",
      "batch_normalization_1 (Batch (None, 359, 128)          512       \n",
      "_________________________________________________________________\n",
      "activation_1 (Activation)    (None, 359, 128)          0         \n",
      "_________________________________________________________________\n",
      "max_pooling1d_1 (MaxPooling1 (None, 89, 128)           0         \n",
      "_________________________________________________________________\n",
      "conv1d_2 (Conv1D)            (None, 79, 384)           541056    \n",
      "_________________________________________________________________\n",
      "batch_normalization_2 (Batch (None, 79, 384)           1536      \n",
      "_________________________________________________________________\n",
      "activation_2 (Activation)    (None, 79, 384)           0         \n",
      "_________________________________________________________________\n",
      "max_pooling1d_2 (MaxPooling1 (None, 19, 384)           0         \n",
      "_________________________________________________________________\n",
      "conv1d_3 (Conv1D)            (None, 9, 1024)           4326400   \n",
      "_________________________________________________________________\n",
      "batch_normalization_3 (Batch (None, 9, 1024)           4096      \n",
      "_________________________________________________________________\n",
      "activation_3 (Activation)    (None, 9, 1024)           0         \n",
      "_________________________________________________________________\n",
      "max_pooling1d_3 (MaxPooling1 (None, 2, 1024)           0         \n",
      "_________________________________________________________________\n",
      "flatten_1 (Flatten)          (None, 2048)              0         \n",
      "_________________________________________________________________\n",
      "dense_1 (Dense)              (None, 100)               204900    \n",
      "_________________________________________________________________\n",
      "dense_2 (Dense)              (None, 2)                 202       \n",
      "=================================================================\n",
      "Total params: 5,080,238\n",
      "Trainable params: 5,077,166\n",
      "Non-trainable params: 3,072\n",
      "_________________________________________________________________\n"
     ]
    }
   ],
   "source": [
    "model = cnn_model()\n",
    "plot_model(model, '/content/model_cnn_pca.png', show_shapes=True)\n",
    "model.summary()"
   ]
  },
  {
   "cell_type": "code",
   "execution_count": 10,
   "metadata": {
    "colab": {
     "base_uri": "https://localhost:8080/",
     "height": 1000
    },
    "colab_type": "code",
    "executionInfo": {
     "elapsed": 106517,
     "status": "ok",
     "timestamp": 1567617078032,
     "user": {
      "displayName": "Yves Fauser",
      "photoUrl": "https://lh3.googleusercontent.com/a-/AAuE7mDawSjLoGduog8_o6oUYm3uQfSZbXtF69Io3FEvGq0=s64",
      "userId": "10028406161616100038"
     },
     "user_tz": -60
    },
    "id": "_lHwnqDddxsP",
    "outputId": "ba1f5a3c-ca89-474a-e774-d97c27f60725"
   },
   "outputs": [
    {
     "name": "stderr",
     "output_type": "stream",
     "text": [
      "W0904 17:10:00.201399 140026679904128 deprecation.py:323] From /usr/local/lib/python3.6/dist-packages/tensorflow/python/ops/math_grad.py:1250: add_dispatch_support.<locals>.wrapper (from tensorflow.python.ops.array_ops) is deprecated and will be removed in a future version.\n",
      "Instructions for updating:\n",
      "Use tf.where in 2.0, which has the same broadcast rule as np.where\n"
     ]
    },
    {
     "name": "stdout",
     "output_type": "stream",
     "text": [
      "Train on 2100 samples, validate on 525 samples\n",
      "Epoch 1/100\n",
      "2100/2100 [==============================] - 9s 4ms/step - loss: 0.6669 - acc: 0.7905 - val_loss: 0.6915 - val_acc: 0.7943\n",
      "\n",
      "Epoch 00001: val_loss improved from inf to 0.69148, saving model to /content/saved_weights_cnn_pca.hdf5\n",
      "Epoch 2/100\n",
      "2100/2100 [==============================] - 2s 1ms/step - loss: 0.5358 - acc: 0.7990 - val_loss: 0.5017 - val_acc: 0.7943\n",
      "\n",
      "Epoch 00002: val_loss improved from 0.69148 to 0.50173, saving model to /content/saved_weights_cnn_pca.hdf5\n",
      "Epoch 3/100\n",
      "2100/2100 [==============================] - 2s 1ms/step - loss: 0.4235 - acc: 0.8076 - val_loss: 0.3808 - val_acc: 0.8057\n",
      "\n",
      "Epoch 00003: val_loss improved from 0.50173 to 0.38082, saving model to /content/saved_weights_cnn_pca.hdf5\n",
      "Epoch 4/100\n",
      "2100/2100 [==============================] - 2s 1ms/step - loss: 0.3559 - acc: 0.8229 - val_loss: 0.3930 - val_acc: 0.7962\n",
      "\n",
      "Epoch 00004: val_loss did not improve from 0.38082\n",
      "Epoch 5/100\n",
      "2100/2100 [==============================] - 2s 1ms/step - loss: 0.3362 - acc: 0.8129 - val_loss: 0.3635 - val_acc: 0.8095\n",
      "\n",
      "Epoch 00005: val_loss improved from 0.38082 to 0.36348, saving model to /content/saved_weights_cnn_pca.hdf5\n",
      "Epoch 6/100\n",
      "2100/2100 [==============================] - 2s 1ms/step - loss: 0.3270 - acc: 0.8233 - val_loss: 0.3723 - val_acc: 0.8057\n",
      "\n",
      "Epoch 00006: val_loss did not improve from 0.36348\n",
      "Epoch 7/100\n",
      "2100/2100 [==============================] - 2s 1ms/step - loss: 0.3090 - acc: 0.8300 - val_loss: 0.3725 - val_acc: 0.8152\n",
      "\n",
      "Epoch 00007: val_loss did not improve from 0.36348\n",
      "Epoch 8/100\n",
      "2100/2100 [==============================] - 2s 1ms/step - loss: 0.2908 - acc: 0.8362 - val_loss: 0.3522 - val_acc: 0.8152\n",
      "\n",
      "Epoch 00008: val_loss improved from 0.36348 to 0.35221, saving model to /content/saved_weights_cnn_pca.hdf5\n",
      "Epoch 9/100\n",
      "2100/2100 [==============================] - 2s 1ms/step - loss: 0.2690 - acc: 0.8448 - val_loss: 0.3429 - val_acc: 0.8190\n",
      "\n",
      "Epoch 00009: val_loss improved from 0.35221 to 0.34287, saving model to /content/saved_weights_cnn_pca.hdf5\n",
      "Epoch 10/100\n",
      "2100/2100 [==============================] - 2s 1ms/step - loss: 0.2691 - acc: 0.8362 - val_loss: 0.3524 - val_acc: 0.8114\n",
      "\n",
      "Epoch 00010: val_loss did not improve from 0.34287\n",
      "Epoch 11/100\n",
      "2100/2100 [==============================] - 2s 1ms/step - loss: 0.2596 - acc: 0.8557 - val_loss: 0.3524 - val_acc: 0.8152\n",
      "\n",
      "Epoch 00011: val_loss did not improve from 0.34287\n",
      "Epoch 12/100\n",
      "2100/2100 [==============================] - 2s 1ms/step - loss: 0.2541 - acc: 0.8562 - val_loss: 0.3485 - val_acc: 0.8210\n",
      "\n",
      "Epoch 00012: val_loss did not improve from 0.34287\n",
      "Epoch 13/100\n",
      "2100/2100 [==============================] - 2s 1ms/step - loss: 0.2545 - acc: 0.8338 - val_loss: 0.3549 - val_acc: 0.8152\n",
      "\n",
      "Epoch 00013: val_loss did not improve from 0.34287\n",
      "Epoch 14/100\n",
      "2100/2100 [==============================] - 2s 1ms/step - loss: 0.2470 - acc: 0.8533 - val_loss: 0.3461 - val_acc: 0.8152\n",
      "\n",
      "Epoch 00014: val_loss did not improve from 0.34287\n",
      "Epoch 15/100\n",
      "2100/2100 [==============================] - 2s 1ms/step - loss: 0.2392 - acc: 0.8605 - val_loss: 0.3540 - val_acc: 0.8152\n",
      "\n",
      "Epoch 00015: val_loss did not improve from 0.34287\n",
      "Epoch 16/100\n",
      "2100/2100 [==============================] - 2s 1ms/step - loss: 0.2410 - acc: 0.8648 - val_loss: 0.3387 - val_acc: 0.8476\n",
      "\n",
      "Epoch 00016: val_loss improved from 0.34287 to 0.33867, saving model to /content/saved_weights_cnn_pca.hdf5\n",
      "Epoch 17/100\n",
      "2100/2100 [==============================] - 2s 1ms/step - loss: 0.2318 - acc: 0.8733 - val_loss: 0.3429 - val_acc: 0.8248\n",
      "\n",
      "Epoch 00017: val_loss did not improve from 0.33867\n",
      "Epoch 18/100\n",
      "2100/2100 [==============================] - 2s 1ms/step - loss: 0.2359 - acc: 0.8548 - val_loss: 0.3426 - val_acc: 0.8286\n",
      "\n",
      "Epoch 00018: val_loss did not improve from 0.33867\n",
      "Epoch 19/100\n",
      "2100/2100 [==============================] - 2s 1ms/step - loss: 0.2307 - acc: 0.8610 - val_loss: 0.3388 - val_acc: 0.8571\n",
      "\n",
      "Epoch 00019: val_loss did not improve from 0.33867\n",
      "Epoch 20/100\n",
      "2100/2100 [==============================] - 2s 1ms/step - loss: 0.2256 - acc: 0.8705 - val_loss: 0.3433 - val_acc: 0.8248\n",
      "\n",
      "Epoch 00020: val_loss did not improve from 0.33867\n",
      "Epoch 21/100\n",
      "2100/2100 [==============================] - 2s 1ms/step - loss: 0.2216 - acc: 0.8733 - val_loss: 0.3480 - val_acc: 0.8343\n",
      "\n",
      "Epoch 00021: val_loss did not improve from 0.33867\n",
      "Epoch 22/100\n",
      "2100/2100 [==============================] - 2s 1ms/step - loss: 0.2198 - acc: 0.8767 - val_loss: 0.3474 - val_acc: 0.8343\n",
      "\n",
      "Epoch 00022: val_loss did not improve from 0.33867\n",
      "Epoch 23/100\n",
      "2100/2100 [==============================] - 2s 1ms/step - loss: 0.2316 - acc: 0.8776 - val_loss: 0.3726 - val_acc: 0.8362\n",
      "\n",
      "Epoch 00023: val_loss did not improve from 0.33867\n",
      "Epoch 24/100\n",
      "2100/2100 [==============================] - 2s 1ms/step - loss: 0.2267 - acc: 0.8662 - val_loss: 0.3510 - val_acc: 0.8495\n",
      "\n",
      "Epoch 00024: val_loss did not improve from 0.33867\n",
      "Epoch 25/100\n",
      "2100/2100 [==============================] - 2s 1ms/step - loss: 0.2169 - acc: 0.8710 - val_loss: 0.3462 - val_acc: 0.8419\n",
      "\n",
      "Epoch 00025: val_loss did not improve from 0.33867\n",
      "Epoch 26/100\n",
      "2100/2100 [==============================] - 2s 1ms/step - loss: 0.2148 - acc: 0.8757 - val_loss: 0.3477 - val_acc: 0.8514\n",
      "\n",
      "Epoch 00026: val_loss did not improve from 0.33867\n",
      "Epoch 27/100\n",
      "2100/2100 [==============================] - 2s 1ms/step - loss: 0.2140 - acc: 0.8790 - val_loss: 0.3502 - val_acc: 0.8229\n",
      "\n",
      "Epoch 00027: val_loss did not improve from 0.33867\n",
      "Epoch 28/100\n",
      "2100/2100 [==============================] - 2s 1ms/step - loss: 0.2128 - acc: 0.8819 - val_loss: 0.3582 - val_acc: 0.8305\n",
      "\n",
      "Epoch 00028: val_loss did not improve from 0.33867\n",
      "Epoch 29/100\n",
      "2100/2100 [==============================] - 2s 1ms/step - loss: 0.2060 - acc: 0.8867 - val_loss: 0.3550 - val_acc: 0.8533\n",
      "\n",
      "Epoch 00029: val_loss did not improve from 0.33867\n",
      "Epoch 30/100\n",
      "2100/2100 [==============================] - 2s 1ms/step - loss: 0.2024 - acc: 0.8833 - val_loss: 0.3601 - val_acc: 0.8400\n",
      "\n",
      "Epoch 00030: val_loss did not improve from 0.33867\n",
      "Epoch 31/100\n",
      "2100/2100 [==============================] - 2s 1ms/step - loss: 0.1974 - acc: 0.8957 - val_loss: 0.3736 - val_acc: 0.8286\n",
      "\n",
      "Epoch 00031: val_loss did not improve from 0.33867\n",
      "Epoch 00031: early stopping\n"
     ]
    },
    {
     "data": {
      "text/plain": [
       "<keras.callbacks.History at 0x7f5a11358be0>"
      ]
     },
     "execution_count": 10,
     "metadata": {
      "tags": []
     },
     "output_type": "execute_result"
    }
   ],
   "source": [
    "checkpointer = ModelCheckpoint(filepath='/content/saved_weights_cnn_pca.hdf5', \n",
    "                               verbose=1, save_best_only=True)\n",
    "\n",
    "early_stop = EarlyStopping(monitor='val_loss', min_delta=0, patience=15, \n",
    "                           verbose=1, mode='auto')\n",
    "\n",
    "model.fit(X_train, y_train, validation_data=(X_valid, y_valid),\n",
    "          epochs=train_epochs, batch_size=32, callbacks=[checkpointer, early_stop], verbose=1)\n"
   ]
  },
  {
   "cell_type": "code",
   "execution_count": 0,
   "metadata": {
    "colab": {},
    "colab_type": "code",
    "id": "WTMh6XbCdxsR"
   },
   "outputs": [],
   "source": [
    "model.load_weights('/content/saved_weights_cnn_pca.hdf5')"
   ]
  },
  {
   "cell_type": "code",
   "execution_count": 0,
   "metadata": {
    "colab": {},
    "colab_type": "code",
    "id": "sZj-OW9YdxsT"
   },
   "outputs": [],
   "source": [
    "valid_pred_real = model.predict(X_valid)\n",
    "valid_pred = np_utils.to_categorical([np.argmax(prediction) for prediction in valid_pred_real])"
   ]
  },
  {
   "cell_type": "code",
   "execution_count": 13,
   "metadata": {
    "colab": {
     "base_uri": "https://localhost:8080/",
     "height": 102
    },
    "colab_type": "code",
    "executionInfo": {
     "elapsed": 106782,
     "status": "ok",
     "timestamp": 1567617078308,
     "user": {
      "displayName": "Yves Fauser",
      "photoUrl": "https://lh3.googleusercontent.com/a-/AAuE7mDawSjLoGduog8_o6oUYm3uQfSZbXtF69Io3FEvGq0=s64",
      "userId": "10028406161616100038"
     },
     "user_tz": -60
    },
    "id": "12AbqhDCjseW",
    "outputId": "68566c4e-5efa-4970-febd-12aa449626f7"
   },
   "outputs": [
    {
     "name": "stdout",
     "output_type": "stream",
     "text": [
      "accuracy for validation data is = 0.8476\n",
      "F1 score for validation data is = 0.7138\n",
      "precision for validation data is = 0.8067\n",
      "recall for validation data is = 0.6804\n",
      "MCC for validation data is = 0.4705\n"
     ]
    }
   ],
   "source": [
    "score_acc = accuracy_score(y_valid, valid_pred)\n",
    "score_f1 = f1_score(y_valid, valid_pred, average='macro')\n",
    "score_prec = precision_score(y_valid, valid_pred, average='macro')\n",
    "score_rec = recall_score(y_valid, valid_pred, average='macro')\n",
    "score_mcc = matthews_corrcoef(y_valid.argmax(axis=1), valid_pred.argmax(axis=1))\n",
    "\n",
    "print(\"accuracy for validation data is = {:.4f}\".format(score_acc))\n",
    "print(\"F1 score for validation data is = {:.4f}\".format(score_f1))\n",
    "print(\"precision for validation data is = {:.4f}\".format(score_prec))\n",
    "print(\"recall for validation data is = {:.4f}\".format(score_rec))\n",
    "print(\"MCC for validation data is = {:.4f}\".format(score_mcc))"
   ]
  },
  {
   "cell_type": "code",
   "execution_count": 14,
   "metadata": {
    "colab": {
     "base_uri": "https://localhost:8080/",
     "height": 621
    },
    "colab_type": "code",
    "executionInfo": {
     "elapsed": 107715,
     "status": "ok",
     "timestamp": 1567617079247,
     "user": {
      "displayName": "Yves Fauser",
      "photoUrl": "https://lh3.googleusercontent.com/a-/AAuE7mDawSjLoGduog8_o6oUYm3uQfSZbXtF69Io3FEvGq0=s64",
      "userId": "10028406161616100038"
     },
     "user_tz": -60
    },
    "id": "zMF0oJ-WkEBo",
    "outputId": "40bb2193-f155-4f68-d12f-0d2f634c08b7"
   },
   "outputs": [
    {
     "data": {
      "image/png": "[encoded data removed]",
      "text/plain": [
       "<Figure size 1440x720 with 1 Axes>"
      ]
     },
     "metadata": {
      "tags": []
     },
     "output_type": "display_data"
    }
   ],
   "source": [
    "fig, ax1 = plt.subplots(figsize=(20, 10))\n",
    "ax1.bar(0, score_acc)\n",
    "ax1.bar(1, score_rec)\n",
    "ax1.bar(2, score_prec)\n",
    "ax1.bar(3, score_f1)\n",
    "ax1.bar(4, score_mcc)\n",
    "ax1.set(xlabel='Metric', ylabel='Result', title='Validation Results')\n",
    "ax1.legend(['accuracy', 'recall', 'precision', 'f1', 'mcc'])\n",
    "ax1.grid()\n",
    "plt.show();"
   ]
  },
  {
   "cell_type": "code",
   "execution_count": 0,
   "metadata": {
    "colab": {},
    "colab_type": "code",
    "id": "88og8Fp4lP5V"
   },
   "outputs": [],
   "source": [
    "!rm '/content/pca_train_data.csv'\n",
    "!rm '/content/select_train_meta.csv'"
   ]
  },
  {
   "cell_type": "code",
   "execution_count": 0,
   "metadata": {
    "colab": {},
    "colab_type": "code",
    "id": "qdAH3zE8lJK2"
   },
   "outputs": [],
   "source": [
    "!cp '/content/saved_weights_cnn_pca.hdf5' '/content/drive/My Drive/Colab Notebooks/'\n",
    "!cp '/content/model_cnn_pca.png' '/content/drive/My Drive/Colab Notebooks/'"
   ]
  }
 ],
 "metadata": {
  "accelerator": "GPU",
  "colab": {
   "collapsed_sections": [],
   "name": "Convolutional Neural Network 1D with PCA.ipynb",
   "provenance": [],
   "version": "0.3.2"
  },
  "kernelspec": {
   "display_name": "Python 3",
   "language": "python",
   "name": "python3"
  },
  "language_info": {
   "codemirror_mode": {
    "name": "ipython",
    "version": 3
   },
   "file_extension": ".py",
   "mimetype": "text/x-python",
   "name": "python",
   "nbconvert_exporter": "python",
   "pygments_lexer": "ipython3",
   "version": "3.7.3"
  }
 },
 "nbformat": 4,
 "nbformat_minor": 1
}
