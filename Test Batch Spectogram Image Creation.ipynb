{
 "cells": [
  {
   "cell_type": "code",
   "execution_count": 1,
   "metadata": {},
   "outputs": [],
   "source": [
    "%load_ext autoreload\n",
    "%autoreload 2"
   ]
  },
  {
   "cell_type": "code",
   "execution_count": 2,
   "metadata": {},
   "outputs": [],
   "source": [
    "import pandas as pd\n",
    "import seaborn as sns\n",
    "import pyarrow.parquet as pq\n",
    "import pyarrow as pa\n",
    "from visualization import save_specto"
   ]
  },
  {
   "cell_type": "code",
   "execution_count": 3,
   "metadata": {},
   "outputs": [],
   "source": [
    "filepath = 'Data/test_spectograms'"
   ]
  },
  {
   "cell_type": "code",
   "execution_count": 5,
   "metadata": {},
   "outputs": [
    {
     "name": "stdout",
     "output_type": "stream",
     "text": [
      "\n",
      "\n",
      "working on chunk Id 21\n",
      "\n",
      "working on image 29048.png, 1 images left to process in chunk 21     \r"
     ]
    }
   ],
   "source": [
    "for chunk_id in range(15,22):\n",
    "    print(\"\\n\\nworking on chunk Id {}\\n\".format(chunk_id))\n",
    "    temp_df = pq.read_pandas('data/filtered_test_{}.parquet'.format(chunk_id)).to_pandas()\n",
    "    images_total = temp_df.shape[1]\n",
    "    \n",
    "    for idx, column in enumerate(temp_df.columns):\n",
    "        images_left = images_total - idx\n",
    "        print('working on image {}.png, {} images left to process in chunk {}    '.format(column, \n",
    "                                                                                          images_left, \n",
    "                                                                                          chunk_id), end=\"\\r\")\n",
    "        save_specto(temp_df[column], filepath=filepath, filename='{}.png'.format(column))\n",
    "            \n",
    "    del temp_df"
   ]
  },
  {
   "cell_type": "code",
   "execution_count": 6,
   "metadata": {},
   "outputs": [
    {
     "name": "stdout",
     "output_type": "stream",
     "text": [
      "/bin/sh: /usr/bin/zip: Argument list too long\r\n"
     ]
    }
   ],
   "source": [
    "!zip -r Data/test_spectograms.zip . -i Data/test_spectograms/*.png -x \"*.DS_Store\""
   ]
  }
 ],
 "metadata": {
  "kernelspec": {
   "display_name": "Python 3",
   "language": "python",
   "name": "python3"
  },
  "language_info": {
   "codemirror_mode": {
    "name": "ipython",
    "version": 3
   },
   "file_extension": ".py",
   "mimetype": "text/x-python",
   "name": "python",
   "nbconvert_exporter": "python",
   "pygments_lexer": "ipython3",
   "version": "3.7.3"
  }
 },
 "nbformat": 4,
 "nbformat_minor": 2
}
